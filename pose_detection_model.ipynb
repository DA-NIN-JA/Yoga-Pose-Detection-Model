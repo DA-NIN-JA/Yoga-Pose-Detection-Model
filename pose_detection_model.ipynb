{
 "cells": [
  {
   "cell_type": "code",
   "execution_count": 1,
   "id": "403ba5f0-dc55-4d4f-9df3-f01ccb30ecf8",
   "metadata": {
    "tags": []
   },
   "outputs": [],
   "source": [
    "import matplotlib.pyplot as plt\n",
    "import numpy as np\n",
    "import cv2\n",
    "import os\n",
    "import PIL\n",
    "import tensorflow as tf\n",
    "\n",
    "from tensorflow import keras\n",
    "from tensorflow.keras import layers\n",
    "from tensorflow.keras.models import Sequential"
   ]
  },
  {
   "cell_type": "code",
   "execution_count": 2,
   "id": "411324bb-227c-4e6e-81dc-74d2f2e2e799",
   "metadata": {
    "tags": []
   },
   "outputs": [],
   "source": [
    "data_dir = 'data'"
   ]
  },
  {
   "cell_type": "code",
   "execution_count": 3,
   "id": "65707794-72fc-4bd4-b9d4-c561c1e63e85",
   "metadata": {
    "tags": []
   },
   "outputs": [
    {
     "data": {
      "text/plain": [
       "WindowsPath('data')"
      ]
     },
     "execution_count": 3,
     "metadata": {},
     "output_type": "execute_result"
    }
   ],
   "source": [
    "import pathlib\n",
    "data_dir = pathlib.Path(data_dir)\n",
    "data_dir"
   ]
  },
  {
   "cell_type": "code",
   "execution_count": 4,
   "id": "27926a46-a2ce-49d3-8732-c0904912e79c",
   "metadata": {
    "tags": []
   },
   "outputs": [
    {
     "data": {
      "text/plain": [
       "325"
      ]
     },
     "execution_count": 4,
     "metadata": {},
     "output_type": "execute_result"
    }
   ],
   "source": [
    "len(list(data_dir.glob('*/*.png')))"
   ]
  },
  {
   "cell_type": "code",
   "execution_count": 5,
   "id": "67b6d6a9-aeb4-46d9-aee5-7755a196ece0",
   "metadata": {
    "tags": []
   },
   "outputs": [],
   "source": [
    "pose_name_dict = {\n",
    "    'Adho Mukha Svanasana':list(data_dir.glob('Adho Mukha Svanasana/*')),\n",
    "    'Adho Mukha Vrksasana':list(data_dir.glob('Adho Mukha Vrksasana/*')),\n",
    "    'Alanasana':list(data_dir.glob('Alanasana/*')),\n",
    "    'Anjaneyasana':list(data_dir.glob('Anjaneyasana/*')),\n",
    "    'Ardha Chandrasana':list(data_dir.glob('Ardha Chandrasana/*')),\n",
    "}"
   ]
  },
  {
   "cell_type": "code",
   "execution_count": 6,
   "id": "c2e429bf-7287-4d56-a4c7-4db7bcfa8765",
   "metadata": {
    "tags": []
   },
   "outputs": [],
   "source": [
    "pose_label_dict = {\n",
    "    'Adho Mukha Svanasana':0,\n",
    "    'Adho Mukha Vrksasana':1,\n",
    "    'Alanasana':2,\n",
    "    'Anjaneyasana':3,\n",
    "    'Ardha Chandrasana':4,\n",
    "}"
   ]
  },
  {
   "cell_type": "code",
   "execution_count": 7,
   "id": "6babd659-6c4f-4438-9f24-7c73c1e84dca",
   "metadata": {
    "tags": []
   },
   "outputs": [],
   "source": [
    "X, y = [], []\n",
    "\n",
    "for yoga_name, images in pose_name_dict.items():\n",
    "    for image in images:\n",
    "        img = cv2.imread(str(image))\n",
    "        resized_img = cv2.resize(img, (128, 128))\n",
    "        X.append(resized_img)\n",
    "        y.append(pose_label_dict[yoga_name])\n",
    "\n",
    "X = np.array(X)\n",
    "y = np.array(y)"
   ]
  },
  {
   "cell_type": "code",
   "execution_count": 8,
   "id": "b8e88711-6884-4cac-bf34-759af336671c",
   "metadata": {
    "tags": []
   },
   "outputs": [],
   "source": [
    "from sklearn.model_selection import train_test_split\n",
    "X_train, X_test, y_train, y_test = train_test_split(X, y, test_size=0.1, random_state=0)"
   ]
  },
  {
   "cell_type": "code",
   "execution_count": 9,
   "id": "2295e94a-62df-4037-93f1-35f37af5e6ba",
   "metadata": {
    "tags": []
   },
   "outputs": [
    {
     "name": "stdout",
     "output_type": "stream",
     "text": [
      "29 258\n"
     ]
    }
   ],
   "source": [
    "X_train = X_train / 255\n",
    "X_test = X_test / 255\n",
    "print(len(X_test), len(X_train))"
   ]
  },
  {
   "cell_type": "code",
   "execution_count": 10,
   "id": "5e6d8e95-f7d5-4d51-9959-09a268f350c9",
   "metadata": {
    "tags": []
   },
   "outputs": [],
   "source": [
    "data_augmentation = keras.Sequential(\n",
    "  [\n",
    "    layers.experimental.preprocessing.RandomFlip(\"horizontal\", \n",
    "                                                 input_shape=(128, \n",
    "                                                              128,\n",
    "                                                              3)),\n",
    "    layers.experimental.preprocessing.RandomRotation(0.2),\n",
    "    layers.experimental.preprocessing.RandomZoom(0.2),\n",
    "  ]\n",
    ")"
   ]
  },
  {
   "cell_type": "code",
   "execution_count": 11,
   "id": "21733626-2ac8-40c9-8917-d982ae03b937",
   "metadata": {
    "tags": []
   },
   "outputs": [],
   "source": [
    "num_classes = 5\n",
    "\n",
    "cnn = Sequential([\n",
    "    data_augmentation,\n",
    "    layers.Conv2D(filters=16, kernel_size=3, activation='relu', padding='same'),\n",
    "    layers.MaxPool2D(pool_size=2, strides=2),\n",
    "    layers.Conv2D(filters=32, kernel_size=3, activation='relu', padding='same'),\n",
    "    layers.MaxPool2D(pool_size=2, strides=2),\n",
    "    layers.Conv2D(filters=64, kernel_size=3, activation='relu', padding='same'),\n",
    "    layers.MaxPool2D(pool_size=2, strides=2),\n",
    "    layers.Flatten(),\n",
    "    \n",
    "    layers.Dense(256, activation='relu'),\n",
    "    layers.Dense(num_classes, activation='softmax')\n",
    "])"
   ]
  },
  {
   "cell_type": "code",
   "execution_count": 12,
   "id": "103b3ea3-e5f8-4f1a-83e0-15dc2e5b5712",
   "metadata": {
    "tags": []
   },
   "outputs": [],
   "source": [
    "cnn.compile(optimizer='Adam',\n",
    "            loss=tf.keras.losses.SparseCategoricalCrossentropy(),\n",
    "            metrics=[\"accuracy\"])"
   ]
  },
  {
   "cell_type": "code",
   "execution_count": 13,
   "id": "a011c917-beaf-430c-8bf5-2c95357cc9fb",
   "metadata": {
    "tags": []
   },
   "outputs": [
    {
     "name": "stdout",
     "output_type": "stream",
     "text": [
      "Epoch 1/60\n",
      "9/9 [==============================] - 4s 154ms/step - loss: 1.7095 - accuracy: 0.2558\n",
      "Epoch 2/60\n",
      "9/9 [==============================] - 1s 148ms/step - loss: 1.5462 - accuracy: 0.2636\n",
      "Epoch 3/60\n",
      "9/9 [==============================] - 1s 150ms/step - loss: 1.5352 - accuracy: 0.2829\n",
      "Epoch 4/60\n",
      "9/9 [==============================] - 1s 149ms/step - loss: 1.5169 - accuracy: 0.2791\n",
      "Epoch 5/60\n",
      "9/9 [==============================] - 1s 150ms/step - loss: 1.4404 - accuracy: 0.3837\n",
      "Epoch 6/60\n",
      "9/9 [==============================] - 1s 150ms/step - loss: 1.4186 - accuracy: 0.3915\n",
      "Epoch 7/60\n",
      "9/9 [==============================] - 1s 151ms/step - loss: 1.3909 - accuracy: 0.3527\n",
      "Epoch 8/60\n",
      "9/9 [==============================] - 1s 149ms/step - loss: 1.2796 - accuracy: 0.4535\n",
      "Epoch 9/60\n",
      "9/9 [==============================] - 1s 150ms/step - loss: 1.3467 - accuracy: 0.4496\n",
      "Epoch 10/60\n",
      "9/9 [==============================] - 1s 147ms/step - loss: 1.3219 - accuracy: 0.4264\n",
      "Epoch 11/60\n",
      "9/9 [==============================] - 1s 147ms/step - loss: 1.2934 - accuracy: 0.4845\n",
      "Epoch 12/60\n",
      "9/9 [==============================] - 1s 149ms/step - loss: 1.2720 - accuracy: 0.4612\n",
      "Epoch 13/60\n",
      "9/9 [==============================] - 1s 150ms/step - loss: 1.2007 - accuracy: 0.5349\n",
      "Epoch 14/60\n",
      "9/9 [==============================] - 1s 150ms/step - loss: 1.2029 - accuracy: 0.4767\n",
      "Epoch 15/60\n",
      "9/9 [==============================] - 1s 148ms/step - loss: 1.2413 - accuracy: 0.4961\n",
      "Epoch 16/60\n",
      "9/9 [==============================] - 1s 148ms/step - loss: 1.2019 - accuracy: 0.5155\n",
      "Epoch 17/60\n",
      "9/9 [==============================] - 1s 148ms/step - loss: 1.1698 - accuracy: 0.5000\n",
      "Epoch 18/60\n",
      "9/9 [==============================] - 1s 147ms/step - loss: 1.0704 - accuracy: 0.5659\n",
      "Epoch 19/60\n",
      "9/9 [==============================] - 1s 150ms/step - loss: 1.0943 - accuracy: 0.5426\n",
      "Epoch 20/60\n",
      "9/9 [==============================] - 1s 150ms/step - loss: 1.1017 - accuracy: 0.5543\n",
      "Epoch 21/60\n",
      "9/9 [==============================] - 1s 148ms/step - loss: 1.0313 - accuracy: 0.6047\n",
      "Epoch 22/60\n",
      "9/9 [==============================] - 1s 146ms/step - loss: 1.0990 - accuracy: 0.5620\n",
      "Epoch 23/60\n",
      "9/9 [==============================] - 1s 149ms/step - loss: 1.0331 - accuracy: 0.5930\n",
      "Epoch 24/60\n",
      "9/9 [==============================] - 1s 151ms/step - loss: 0.9953 - accuracy: 0.5891\n",
      "Epoch 25/60\n",
      "9/9 [==============================] - 1s 147ms/step - loss: 0.9433 - accuracy: 0.5930\n",
      "Epoch 26/60\n",
      "9/9 [==============================] - 1s 148ms/step - loss: 0.9523 - accuracy: 0.6240\n",
      "Epoch 27/60\n",
      "9/9 [==============================] - 1s 149ms/step - loss: 0.8672 - accuracy: 0.7016\n",
      "Epoch 28/60\n",
      "9/9 [==============================] - 1s 151ms/step - loss: 0.9063 - accuracy: 0.6473\n",
      "Epoch 29/60\n",
      "9/9 [==============================] - 1s 148ms/step - loss: 1.0734 - accuracy: 0.5930\n",
      "Epoch 30/60\n",
      "9/9 [==============================] - 1s 148ms/step - loss: 0.8849 - accuracy: 0.6357\n",
      "Epoch 31/60\n",
      "9/9 [==============================] - 1s 148ms/step - loss: 0.9830 - accuracy: 0.6240\n",
      "Epoch 32/60\n",
      "9/9 [==============================] - 1s 151ms/step - loss: 0.9017 - accuracy: 0.6240\n",
      "Epoch 33/60\n",
      "9/9 [==============================] - 1s 149ms/step - loss: 0.8561 - accuracy: 0.6899\n",
      "Epoch 34/60\n",
      "9/9 [==============================] - 1s 148ms/step - loss: 0.9080 - accuracy: 0.6395\n",
      "Epoch 35/60\n",
      "9/9 [==============================] - 1s 149ms/step - loss: 0.8670 - accuracy: 0.6473\n",
      "Epoch 36/60\n",
      "9/9 [==============================] - 1s 148ms/step - loss: 0.8524 - accuracy: 0.6705\n",
      "Epoch 37/60\n",
      "9/9 [==============================] - 1s 149ms/step - loss: 0.9075 - accuracy: 0.6744\n",
      "Epoch 38/60\n",
      "9/9 [==============================] - 1s 149ms/step - loss: 0.9404 - accuracy: 0.5969\n",
      "Epoch 39/60\n",
      "9/9 [==============================] - 1s 149ms/step - loss: 0.8555 - accuracy: 0.6860\n",
      "Epoch 40/60\n",
      "9/9 [==============================] - 1s 153ms/step - loss: 0.7670 - accuracy: 0.7287\n",
      "Epoch 41/60\n",
      "9/9 [==============================] - 1s 149ms/step - loss: 0.7395 - accuracy: 0.7132\n",
      "Epoch 42/60\n",
      "9/9 [==============================] - 1s 150ms/step - loss: 0.8599 - accuracy: 0.6628\n",
      "Epoch 43/60\n",
      "9/9 [==============================] - 1s 149ms/step - loss: 0.8923 - accuracy: 0.6667\n",
      "Epoch 44/60\n",
      "9/9 [==============================] - 1s 149ms/step - loss: 0.9919 - accuracy: 0.6008\n",
      "Epoch 45/60\n",
      "9/9 [==============================] - 1s 147ms/step - loss: 0.8916 - accuracy: 0.6395\n",
      "Epoch 46/60\n",
      "9/9 [==============================] - 1s 144ms/step - loss: 1.0225 - accuracy: 0.5891\n",
      "Epoch 47/60\n",
      "9/9 [==============================] - 1s 149ms/step - loss: 0.9592 - accuracy: 0.6008\n",
      "Epoch 48/60\n",
      "9/9 [==============================] - 1s 152ms/step - loss: 0.9040 - accuracy: 0.6589\n",
      "Epoch 49/60\n",
      "9/9 [==============================] - 1s 150ms/step - loss: 0.8941 - accuracy: 0.6589\n",
      "Epoch 50/60\n",
      "9/9 [==============================] - 1s 150ms/step - loss: 0.8452 - accuracy: 0.6822\n",
      "Epoch 51/60\n",
      "9/9 [==============================] - 1s 153ms/step - loss: 0.7915 - accuracy: 0.6938\n",
      "Epoch 52/60\n",
      "9/9 [==============================] - 1s 151ms/step - loss: 0.8123 - accuracy: 0.7016\n",
      "Epoch 53/60\n",
      "9/9 [==============================] - 1s 149ms/step - loss: 0.8271 - accuracy: 0.6860\n",
      "Epoch 54/60\n",
      "9/9 [==============================] - 1s 153ms/step - loss: 0.8050 - accuracy: 0.7209\n",
      "Epoch 55/60\n",
      "9/9 [==============================] - 1s 153ms/step - loss: 0.7861 - accuracy: 0.7016\n",
      "Epoch 56/60\n",
      "9/9 [==============================] - 1s 152ms/step - loss: 0.7926 - accuracy: 0.6744\n",
      "Epoch 57/60\n",
      "9/9 [==============================] - 1s 153ms/step - loss: 0.7789 - accuracy: 0.7093\n",
      "Epoch 58/60\n",
      "9/9 [==============================] - 1s 155ms/step - loss: 0.7270 - accuracy: 0.7209\n",
      "Epoch 59/60\n",
      "9/9 [==============================] - 1s 151ms/step - loss: 0.7563 - accuracy: 0.7132\n",
      "Epoch 60/60\n",
      "9/9 [==============================] - 1s 149ms/step - loss: 0.7209 - accuracy: 0.7016\n"
     ]
    },
    {
     "data": {
      "text/plain": [
       "<keras.src.callbacks.History at 0x1d4b9e71790>"
      ]
     },
     "execution_count": 13,
     "metadata": {},
     "output_type": "execute_result"
    }
   ],
   "source": [
    "cnn.fit(X_train, y_train, epochs=60)"
   ]
  },
  {
   "cell_type": "code",
   "execution_count": 14,
   "id": "6c8b005f-efc7-49d1-bae0-7eb1462955aa",
   "metadata": {
    "tags": []
   },
   "outputs": [
    {
     "name": "stdout",
     "output_type": "stream",
     "text": [
      "1/1 [==============================] - 0s 354ms/step - loss: 0.7370 - accuracy: 0.7586\n"
     ]
    },
    {
     "data": {
      "text/plain": [
       "[0.7370356917381287, 0.7586206793785095]"
      ]
     },
     "execution_count": 14,
     "metadata": {},
     "output_type": "execute_result"
    }
   ],
   "source": [
    "cnn.evaluate(X_test, y_test)"
   ]
  },
  {
   "cell_type": "code",
   "execution_count": 15,
   "id": "1e261552-ebdb-47f9-b95c-300cc7462d27",
   "metadata": {
    "tags": []
   },
   "outputs": [
    {
     "name": "stdout",
     "output_type": "stream",
     "text": [
      "1/1 [==============================] - 0s 185ms/step\n"
     ]
    },
    {
     "data": {
      "text/plain": [
       "array([[2.0152922e-29, 0.0000000e+00, 1.0000000e+00, 0.0000000e+00,\n",
       "        0.0000000e+00]], dtype=float32)"
      ]
     },
     "execution_count": 15,
     "metadata": {},
     "output_type": "execute_result"
    }
   ],
   "source": [
    "import numpy as np\n",
    "from keras.preprocessing import image\n",
    "test_image = image.load_img('svana.jpg', target_size = (128, 128))\n",
    "test_image = image.img_to_array(test_image)\n",
    "test_image = np.expand_dims(test_image, axis = 0)\n",
    "result = cnn.predict(test_image)\n",
    "result"
   ]
  },
  {
   "cell_type": "code",
   "execution_count": 16,
   "id": "225429ce-605f-4776-add6-7ddf8d8ae429",
   "metadata": {
    "tags": []
   },
   "outputs": [
    {
     "name": "stdout",
     "output_type": "stream",
     "text": [
      "Alanasana\n"
     ]
    }
   ],
   "source": [
    "list_of_poses = [\"Adho Mukha Svanasana\", \"Adho Mukha Vrksasana\", \"Alanasana\", \n",
    "                 \"Anjaneyasana\", \"Ardha Chandrasana\"]\n",
    "# import tensorflow as tf\n",
    "\n",
    "# logits = tf.constant(result)\n",
    "# print(logits)\n",
    "\n",
    "# # Apply softmax\n",
    "# probabilities = tf.nn.softmax(logits)\n",
    "\n",
    "# print(probabilities.numpy())\n",
    "# idx = np.argmax(probabilities[0])\n",
    "# print(list_of_poses[idx])\n",
    "\n",
    "idx = np.argmax(result[0])\n",
    "print(list_of_poses[idx])\n"
   ]
  },
  {
   "cell_type": "code",
   "execution_count": null,
   "id": "bc5d0eff-9ed3-4e89-bf21-463b94acbf70",
   "metadata": {},
   "outputs": [],
   "source": []
  }
 ],
 "metadata": {
  "kernelspec": {
   "display_name": "Python 3 (ipykernel)",
   "language": "python",
   "name": "python3"
  },
  "language_info": {
   "codemirror_mode": {
    "name": "ipython",
    "version": 3
   },
   "file_extension": ".py",
   "mimetype": "text/x-python",
   "name": "python",
   "nbconvert_exporter": "python",
   "pygments_lexer": "ipython3",
   "version": "3.11.4"
  }
 },
 "nbformat": 4,
 "nbformat_minor": 5
}
